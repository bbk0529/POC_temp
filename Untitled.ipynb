{
 "cells": [
  {
   "cell_type": "code",
   "execution_count": 5,
   "metadata": {},
   "outputs": [],
   "source": [
    "data = {'20210716_1054': {'1': 1.067, '3': -0.939, '5': -0.267}, '20210716_1055': {'1': -1.16, '3': 0.278, '5': 0.981}, '20210716_1056': {'3': -2.134, '1': 0.815, '5': -0.674}}"
   ]
  },
  {
   "cell_type": "code",
   "execution_count": 24,
   "metadata": {},
   "outputs": [],
   "source": [
    "data = {'20210716_12263': {'3': 0.451, '1': -0.127, '5': 0.335}, '20210716_12264': {'5': -0.779, '1': -0.48, '3': 0.492}, '20210716_12265': {'3': 0.859, '5': -0.896, '1': -1.657}, '20210716_12270': {'1': -0.709, '5': 0.704, '3': 0.413}, '20210716_12271': {'5': 1.948, '3': 0.69, '1': -0.883}, '20210716_12272': {'1': -1.747, '5': -1.051, '3': -0.391}, '20210716_12273': {'3': -0.787, '5': -0.95, '1': 1.745}}"
   ]
  },
  {
   "cell_type": "code",
   "execution_count": 21,
   "metadata": {},
   "outputs": [],
   "source": [
    "import pandas as pd"
   ]
  },
  {
   "cell_type": "code",
   "execution_count": 33,
   "metadata": {},
   "outputs": [
    {
     "data": {
      "text/html": [
       "<div>\n",
       "<style scoped>\n",
       "    .dataframe tbody tr th:only-of-type {\n",
       "        vertical-align: middle;\n",
       "    }\n",
       "\n",
       "    .dataframe tbody tr th {\n",
       "        vertical-align: top;\n",
       "    }\n",
       "\n",
       "    .dataframe thead th {\n",
       "        text-align: right;\n",
       "    }\n",
       "</style>\n",
       "<table border=\"1\" class=\"dataframe\">\n",
       "  <thead>\n",
       "    <tr style=\"text-align: right;\">\n",
       "      <th></th>\n",
       "      <th>20210716_12263</th>\n",
       "      <th>20210716_12264</th>\n",
       "      <th>20210716_12265</th>\n",
       "      <th>20210716_12270</th>\n",
       "      <th>20210716_12271</th>\n",
       "      <th>20210716_12272</th>\n",
       "      <th>20210716_12273</th>\n",
       "    </tr>\n",
       "  </thead>\n",
       "  <tbody>\n",
       "    <tr>\n",
       "      <th>3</th>\n",
       "      <td>0.451</td>\n",
       "      <td>0.492</td>\n",
       "      <td>0.859</td>\n",
       "      <td>0.413</td>\n",
       "      <td>0.690</td>\n",
       "      <td>-0.391</td>\n",
       "      <td>-0.787</td>\n",
       "    </tr>\n",
       "    <tr>\n",
       "      <th>1</th>\n",
       "      <td>-0.127</td>\n",
       "      <td>-0.480</td>\n",
       "      <td>-1.657</td>\n",
       "      <td>-0.709</td>\n",
       "      <td>-0.883</td>\n",
       "      <td>-1.747</td>\n",
       "      <td>1.745</td>\n",
       "    </tr>\n",
       "    <tr>\n",
       "      <th>5</th>\n",
       "      <td>0.335</td>\n",
       "      <td>-0.779</td>\n",
       "      <td>-0.896</td>\n",
       "      <td>0.704</td>\n",
       "      <td>1.948</td>\n",
       "      <td>-1.051</td>\n",
       "      <td>-0.950</td>\n",
       "    </tr>\n",
       "  </tbody>\n",
       "</table>\n",
       "</div>"
      ],
      "text/plain": [
       "   20210716_12263  20210716_12264  20210716_12265  20210716_12270  \\\n",
       "3           0.451           0.492           0.859           0.413   \n",
       "1          -0.127          -0.480          -1.657          -0.709   \n",
       "5           0.335          -0.779          -0.896           0.704   \n",
       "\n",
       "   20210716_12271  20210716_12272  20210716_12273  \n",
       "3           0.690          -0.391          -0.787  \n",
       "1          -0.883          -1.747           1.745  \n",
       "5           1.948          -1.051          -0.950  "
      ]
     },
     "execution_count": 33,
     "metadata": {},
     "output_type": "execute_result"
    }
   ],
   "source": [
    "pd.DataFrame(data)"
   ]
  },
  {
   "cell_type": "code",
   "execution_count": 31,
   "metadata": {},
   "outputs": [
    {
     "data": {
      "text/plain": [
       "array([[ 0.451,  0.492,  0.859,  0.413,  0.69 , -0.391, -0.787],\n",
       "       [-0.127, -0.48 , -1.657, -0.709, -0.883, -1.747,  1.745],\n",
       "       [ 0.335, -0.779, -0.896,  0.704,  1.948, -1.051, -0.95 ]])"
      ]
     },
     "execution_count": 31,
     "metadata": {},
     "output_type": "execute_result"
    }
   ],
   "source": [
    "pd.DataFrame(data).values"
   ]
  },
  {
   "cell_type": "code",
   "execution_count": 67,
   "metadata": {},
   "outputs": [
    {
     "data": {
      "text/plain": [
       "3"
      ]
     },
     "execution_count": 67,
     "metadata": {},
     "output_type": "execute_result"
    }
   ],
   "source": [
    "int(list(data[list(data.keys())[0]].keys())[0])"
   ]
  },
  {
   "cell_type": "code",
   "execution_count": 25,
   "metadata": {},
   "outputs": [
    {
     "data": {
      "text/html": [
       "<div>\n",
       "<style scoped>\n",
       "    .dataframe tbody tr th:only-of-type {\n",
       "        vertical-align: middle;\n",
       "    }\n",
       "\n",
       "    .dataframe tbody tr th {\n",
       "        vertical-align: top;\n",
       "    }\n",
       "\n",
       "    .dataframe thead th {\n",
       "        text-align: right;\n",
       "    }\n",
       "</style>\n",
       "<table border=\"1\" class=\"dataframe\">\n",
       "  <thead>\n",
       "    <tr style=\"text-align: right;\">\n",
       "      <th></th>\n",
       "      <th>20210716_12263</th>\n",
       "      <th>20210716_12264</th>\n",
       "      <th>20210716_12265</th>\n",
       "      <th>20210716_12270</th>\n",
       "      <th>20210716_12271</th>\n",
       "      <th>20210716_12272</th>\n",
       "      <th>20210716_12273</th>\n",
       "    </tr>\n",
       "  </thead>\n",
       "  <tbody>\n",
       "    <tr>\n",
       "      <th>3</th>\n",
       "      <td>0.451</td>\n",
       "      <td>0.492</td>\n",
       "      <td>0.859</td>\n",
       "      <td>0.413</td>\n",
       "      <td>0.690</td>\n",
       "      <td>-0.391</td>\n",
       "      <td>-0.787</td>\n",
       "    </tr>\n",
       "    <tr>\n",
       "      <th>1</th>\n",
       "      <td>-0.127</td>\n",
       "      <td>-0.480</td>\n",
       "      <td>-1.657</td>\n",
       "      <td>-0.709</td>\n",
       "      <td>-0.883</td>\n",
       "      <td>-1.747</td>\n",
       "      <td>1.745</td>\n",
       "    </tr>\n",
       "    <tr>\n",
       "      <th>5</th>\n",
       "      <td>0.335</td>\n",
       "      <td>-0.779</td>\n",
       "      <td>-0.896</td>\n",
       "      <td>0.704</td>\n",
       "      <td>1.948</td>\n",
       "      <td>-1.051</td>\n",
       "      <td>-0.950</td>\n",
       "    </tr>\n",
       "  </tbody>\n",
       "</table>\n",
       "</div>"
      ],
      "text/plain": [
       "   20210716_12263  20210716_12264  20210716_12265  20210716_12270  \\\n",
       "3           0.451           0.492           0.859           0.413   \n",
       "1          -0.127          -0.480          -1.657          -0.709   \n",
       "5           0.335          -0.779          -0.896           0.704   \n",
       "\n",
       "   20210716_12271  20210716_12272  20210716_12273  \n",
       "3           0.690          -0.391          -0.787  \n",
       "1          -0.883          -1.747           1.745  \n",
       "5           1.948          -1.051          -0.950  "
      ]
     },
     "execution_count": 25,
     "metadata": {},
     "output_type": "execute_result"
    }
   ],
   "source": [
    "pd.DataFrame(data)"
   ]
  },
  {
   "cell_type": "code",
   "execution_count": 43,
   "metadata": {},
   "outputs": [
    {
     "data": {
      "text/html": [
       "<div>\n",
       "<style scoped>\n",
       "    .dataframe tbody tr th:only-of-type {\n",
       "        vertical-align: middle;\n",
       "    }\n",
       "\n",
       "    .dataframe tbody tr th {\n",
       "        vertical-align: top;\n",
       "    }\n",
       "\n",
       "    .dataframe thead th {\n",
       "        text-align: right;\n",
       "    }\n",
       "</style>\n",
       "<table border=\"1\" class=\"dataframe\">\n",
       "  <thead>\n",
       "    <tr style=\"text-align: right;\">\n",
       "      <th></th>\n",
       "      <th>20210716_12263</th>\n",
       "      <th>20210716_12264</th>\n",
       "      <th>20210716_12265</th>\n",
       "      <th>20210716_12270</th>\n",
       "      <th>20210716_12271</th>\n",
       "      <th>20210716_12272</th>\n",
       "      <th>20210716_12273</th>\n",
       "    </tr>\n",
       "  </thead>\n",
       "  <tbody>\n",
       "    <tr>\n",
       "      <th>3</th>\n",
       "      <td>0.451</td>\n",
       "      <td>0.492</td>\n",
       "      <td>0.859</td>\n",
       "      <td>0.413</td>\n",
       "      <td>0.690</td>\n",
       "      <td>-0.391</td>\n",
       "      <td>-0.787</td>\n",
       "    </tr>\n",
       "    <tr>\n",
       "      <th>1</th>\n",
       "      <td>-0.127</td>\n",
       "      <td>-0.480</td>\n",
       "      <td>-1.657</td>\n",
       "      <td>-0.709</td>\n",
       "      <td>-0.883</td>\n",
       "      <td>-1.747</td>\n",
       "      <td>1.745</td>\n",
       "    </tr>\n",
       "    <tr>\n",
       "      <th>5</th>\n",
       "      <td>0.335</td>\n",
       "      <td>-0.779</td>\n",
       "      <td>-0.896</td>\n",
       "      <td>0.704</td>\n",
       "      <td>1.948</td>\n",
       "      <td>-1.051</td>\n",
       "      <td>-0.950</td>\n",
       "    </tr>\n",
       "  </tbody>\n",
       "</table>\n",
       "</div>"
      ],
      "text/plain": [
       "   20210716_12263  20210716_12264  20210716_12265  20210716_12270  \\\n",
       "3           0.451           0.492           0.859           0.413   \n",
       "1          -0.127          -0.480          -1.657          -0.709   \n",
       "5           0.335          -0.779          -0.896           0.704   \n",
       "\n",
       "   20210716_12271  20210716_12272  20210716_12273  \n",
       "3           0.690          -0.391          -0.787  \n",
       "1          -0.883          -1.747           1.745  \n",
       "5           1.948          -1.051          -0.950  "
      ]
     },
     "execution_count": 43,
     "metadata": {},
     "output_type": "execute_result"
    }
   ],
   "source": [
    "pd.DataFrame(data)"
   ]
  },
  {
   "cell_type": "code",
   "execution_count": 47,
   "metadata": {},
   "outputs": [
    {
     "data": {
      "text/plain": [
       "7"
      ]
     },
     "execution_count": 47,
     "metadata": {},
     "output_type": "execute_result"
    }
   ],
   "source": [
    "len(data)"
   ]
  },
  {
   "cell_type": "code",
   "execution_count": 36,
   "metadata": {},
   "outputs": [
    {
     "data": {
      "text/plain": [
       "[1, 2, 3]"
      ]
     },
     "execution_count": 36,
     "metadata": {},
     "output_type": "execute_result"
    }
   ],
   "source": [
    "[1,2,3]"
   ]
  },
  {
   "cell_type": "code",
   "execution_count": 37,
   "metadata": {},
   "outputs": [],
   "source": [
    "i=1"
   ]
  },
  {
   "cell_type": "code",
   "execution_count": 38,
   "metadata": {},
   "outputs": [
    {
     "data": {
      "text/plain": [
       "[2, 3, 4]"
      ]
     },
     "execution_count": 38,
     "metadata": {},
     "output_type": "execute_result"
    }
   ],
   "source": [
    "[i+1, i+2, i+3]"
   ]
  },
  {
   "cell_type": "code",
   "execution_count": 8,
   "metadata": {
    "scrolled": true
   },
   "outputs": [
    {
     "name": "stdout",
     "output_type": "stream",
     "text": [
      "20210716_1054 {'1': 1.067, '3': -0.939, '5': -0.267} [1.067, -0.939, -0.267] -0.04633333333333334\n",
      "20210716_1055 {'1': -1.16, '3': 0.278, '5': 0.981} [-1.16, 0.278, 0.981] 0.03300000000000003\n",
      "20210716_1056 {'3': -2.134, '1': 0.815, '5': -0.674} [-2.134, 0.815, -0.674] -0.6643333333333333\n"
     ]
    }
   ],
   "source": [
    "for i in data.keys() : \n",
    "#     print(i)\n",
    "    if len(data[i]) == 3 :\n",
    "        lst_data = list(data[i].values())\n",
    "        print(i, data[i],lst_data, np.mean(lst_data))\n"
   ]
  },
  {
   "cell_type": "code",
   "execution_count": 4,
   "metadata": {},
   "outputs": [],
   "source": [
    "import numpy as np"
   ]
  },
  {
   "cell_type": "code",
   "execution_count": 3,
   "metadata": {},
   "outputs": [],
   "source": [
    "import pandas"
   ]
  },
  {
   "cell_type": "code",
   "execution_count": 15,
   "metadata": {},
   "outputs": [
    {
     "name": "stdout",
     "output_type": "stream",
     "text": [
      "Requirement already satisfied: pandas in /home/bk/snap/jupyter/common/lib/python3.7/site-packages (1.1.3)\n",
      "Requirement already satisfied: pytz>=2017.2 in /home/bk/snap/jupyter/common/lib/python3.7/site-packages (from pandas) (2021.1)\n",
      "Requirement already satisfied: python-dateutil>=2.7.3 in /snap/jupyter/6/lib/python3.7/site-packages (from pandas) (2.8.0)\n",
      "Requirement already satisfied: numpy>=1.15.4 in /home/bk/snap/jupyter/common/lib/python3.7/site-packages (from pandas) (1.21.0)\n",
      "Requirement already satisfied: six>=1.5 in /snap/jupyter/6/lib/python3.7/site-packages (from python-dateutil>=2.7.3->pandas) (1.12.0)\n"
     ]
    }
   ],
   "source": [
    "!pip install pandas\n"
   ]
  },
  {
   "cell_type": "code",
   "execution_count": 16,
   "metadata": {},
   "outputs": [
    {
     "ename": "ModuleNotFoundError",
     "evalue": "No module named 'pandas'",
     "output_type": "error",
     "traceback": [
      "\u001b[0;31m---------------------------------------------------------------------------\u001b[0m",
      "\u001b[0;31mModuleNotFoundError\u001b[0m                       Traceback (most recent call last)",
      "\u001b[0;32m<ipython-input-16-cd7c72c13e02>\u001b[0m in \u001b[0;36m<module>\u001b[0;34m\u001b[0m\n\u001b[0;32m----> 1\u001b[0;31m \u001b[0;32mimport\u001b[0m \u001b[0mpandas\u001b[0m\u001b[0;34m\u001b[0m\u001b[0;34m\u001b[0m\u001b[0m\n\u001b[0m",
      "\u001b[0;31mModuleNotFoundError\u001b[0m: No module named 'pandas'"
     ]
    }
   ],
   "source": [
    "import pandas "
   ]
  },
  {
   "cell_type": "code",
   "execution_count": 10,
   "metadata": {},
   "outputs": [
    {
     "data": {
      "text/plain": [
       "{'20210716_1054': {'1': 1.067, '3': -0.939, '5': -0.267},\n",
       " '20210716_1055': {'1': -1.16, '3': 0.278, '5': 0.981},\n",
       " '20210716_1056': {'3': -2.134, '1': 0.815, '5': -0.674}}"
      ]
     },
     "execution_count": 10,
     "metadata": {},
     "output_type": "execute_result"
    }
   ],
   "source": [
    "data"
   ]
  },
  {
   "cell_type": "code",
   "execution_count": 15,
   "metadata": {},
   "outputs": [
    {
     "data": {
      "text/plain": [
       "'20210716_1054'"
      ]
     },
     "execution_count": 15,
     "metadata": {},
     "output_type": "execute_result"
    }
   ],
   "source": [
    "list(data.keys())[0]"
   ]
  },
  {
   "cell_type": "code",
   "execution_count": 18,
   "metadata": {},
   "outputs": [
    {
     "data": {
      "text/plain": [
       "{'1': 1.067, '3': -0.939, '5': -0.267}"
      ]
     },
     "execution_count": 18,
     "metadata": {},
     "output_type": "execute_result"
    }
   ],
   "source": [
    "\n",
    "data.pop(list(data.keys())[0])"
   ]
  },
  {
   "cell_type": "code",
   "execution_count": 19,
   "metadata": {},
   "outputs": [
    {
     "data": {
      "text/plain": [
       "{'20210716_1055': {'1': -1.16, '3': 0.278, '5': 0.981},\n",
       " '20210716_1056': {'3': -2.134, '1': 0.815, '5': -0.674}}"
      ]
     },
     "execution_count": 19,
     "metadata": {},
     "output_type": "execute_result"
    }
   ],
   "source": [
    "data"
   ]
  },
  {
   "cell_type": "code",
   "execution_count": null,
   "metadata": {},
   "outputs": [],
   "source": []
  }
 ],
 "metadata": {
  "kernelspec": {
   "display_name": "Python 3",
   "language": "python",
   "name": "python3"
  },
  "language_info": {
   "codemirror_mode": {
    "name": "ipython",
    "version": 3
   },
   "file_extension": ".py",
   "mimetype": "text/x-python",
   "name": "python",
   "nbconvert_exporter": "python",
   "pygments_lexer": "ipython3",
   "version": "3.7.3"
  }
 },
 "nbformat": 4,
 "nbformat_minor": 2
}
